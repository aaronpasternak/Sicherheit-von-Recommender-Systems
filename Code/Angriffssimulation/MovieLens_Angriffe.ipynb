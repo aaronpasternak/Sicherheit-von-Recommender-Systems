{
 "cells": [
  {
   "cell_type": "code",
   "execution_count": null,
   "id": "9c4938b0-1102-4204-94d1-64a24129cc14",
   "metadata": {},
   "outputs": [],
   "source": [
    "# Importieren der erforderlichen Bibliotheken\n",
    "import random\n",
    "from pyspark.sql import functions as F\n",
    "from pyspark.sql.functions import  col\n",
    "from pyspark.sql import SparkSession\n",
    "import numpy as np\n",
    "from pyspark.sql.functions import count, avg, desc, round as round_func\n",
    "import time\n",
    "from pyspark.sql.functions import when"
   ]
  },
  {
   "cell_type": "code",
   "execution_count": null,
   "id": "0c96b266-c0a7-4a78-96b5-cf20b698ebe9",
   "metadata": {},
   "outputs": [],
   "source": [
    "# Spark Session initialisieren\n",
    "spark = SparkSession.builder \\\n",
    "    .appName(\"MovieLens_Angriffsprofile\") \\\n",
    "    .config(\"spark.driver.memory\", \"16g\") \\\n",
    "    .config(\"spark.executor.memory\", \"16g\") \\\n",
    "    .getOrCreate()\n",
    "\n",
    "\n",
    "# Lesen der Ratings-Datei\n",
    "ratings_df = spark.read.csv(\"ml-32m/ratings.csv\", header=True, inferSchema=True)\n",
    "#ratings_df = ratings_df.drop('timestamp')\n",
    "\n",
    "# Laden der movies.csv\n",
    "movies_df = spark.read.csv('ml-32m/movies.csv', header=True, inferSchema=True)\n",
    "\n",
    "# Verbinden der DataFrames basierend auf der movieId\n",
    "ratings = ratings_df.join(movies_df, on='movieId', how='inner')\n",
    "\n",
    "# Schema und erste 10 Einträge des Datensatzes\n",
    "ratings.printSchema()\n",
    "ratings.show(10)"
   ]
  },
  {
   "cell_type": "code",
   "execution_count": null,
   "id": "f0317b9f-9e7c-42ee-992a-86edec443013",
   "metadata": {},
   "outputs": [],
   "source": [
    "# Anzahl der Ratings im Datensatz\n",
    "print(\"Anzahl der Ratings im Datensatz:\", ratings.count())\n",
    "\n",
    "# Duplikate filtern\n",
    "duplicates = (\n",
    "    ratings.groupBy(\"userId\", \"movieId\")\n",
    "    .count()\n",
    "    .filter(F.col(\"count\") > 1)\n",
    ")\n",
    "\n",
    "# Duplikate anzeigen\n",
    "print(\"Anzahl der Duplikate:\", duplicates.count())\n",
    "\n",
    "# Duplikate entfernen\n",
    "ratings = ratings.dropDuplicates([\"userId\", \"movieId\"])\n",
    "\n",
    "# Ergebnis überprüfen: Anzahl der Ratings im Datensatz nach Entfernung der Duplikate\n",
    "print(\"Anzahl der Zeilen nach Entfernen der Duplikate:\")\n",
    "print(ratings.count())"
   ]
  },
  {
   "cell_type": "code",
   "execution_count": null,
   "id": "6248d494-c058-4fa0-b0b1-55502a83a50d",
   "metadata": {},
   "outputs": [],
   "source": [
    "# Berechne den Mittelwert und die Standardabweichung der Ratings im Datensatz und zeige diese an\n",
    "mean_rating_system = ratings.agg({\"rating\": \"avg\"}).collect()[0][0]\n",
    "stddev_rating = ratings.agg({\"rating\": \"stddev\"}).collect()[0][0]\n",
    "\n",
    "print(mean_rating_system)\n",
    "print(stddev_rating)"
   ]
  },
  {
   "cell_type": "code",
   "execution_count": null,
   "id": "c4fce7eb-662b-4bbb-8251-888b560afcf5",
   "metadata": {},
   "outputs": [],
   "source": [
    "# Anzahl aller Ratings im DataFrame\n",
    "total_ratings_counte = ratings_df.count()\n",
    "\n",
    "# Ausgabe der Anzahl der Ratings\n",
    "print(\"Anzahl aller Ratings:\", total_ratings_counte)"
   ]
  },
  {
   "cell_type": "code",
   "execution_count": null,
   "id": "f805347f-bdd5-4b7e-a745-959a600049af",
   "metadata": {},
   "outputs": [],
   "source": [
    "# Berechnung der Beliebtheit und der durchschnittlichen Bewertung pro Film\n",
    "item_popularity_and_avg_rating = (\n",
    "    ratings.groupBy(\"movieId\")\n",
    "    .agg(\n",
    "        F.count(\"rating\").alias(\"num_ratings\"),\n",
    "        F.avg(\"rating\").alias(\"avg_rating\")\n",
    "    )\n",
    ")\n",
    "\n",
    "# Finde das mittlere Quantil für die Anzahl der Bewertungen\n",
    "quantiles = item_popularity_and_avg_rating.approxQuantile(\"num_ratings\", [0.4, 0.6], 0.05)\n",
    "min_num_ratings, max_num_ratings = quantiles[0], quantiles[1]\n",
    "\n",
    "# Mittlere Bewertung: Finde das mittlere Quantil für die durchschnittliche Bewertung\n",
    "rating_quantiles = item_popularity_and_avg_rating.approxQuantile(\"avg_rating\", [0.4, 0.6], 0.05)\n",
    "min_avg_rating, max_avg_rating = rating_quantiles[0], rating_quantiles[1]\n",
    "\n",
    "# Wähle repräsentatives Genre\n",
    "popular_genres = (\n",
    "    movies_df\n",
    "    .withColumn(\"genre\", F.explode(F.split(F.col(\"genres\"), \"\\|\")))\n",
    "    .groupBy(\"genre\")\n",
    "    .count()\n",
    "    .orderBy(F.desc(\"count\"))\n",
    "    .limit(3)  # Nimm die Top 3 Genres als Beispiel\n",
    ")\n",
    "\n",
    "# Filtere die Filme mit mittlerer Beliebtheit, mittlerer Bewertung und einem repräsentativen Genre\n",
    "target_candidates = (\n",
    "    item_popularity_and_avg_rating\n",
    "    .filter(\n",
    "        (F.col(\"num_ratings\") >= min_num_ratings) & (F.col(\"num_ratings\") <= max_num_ratings) &\n",
    "        (F.col(\"avg_rating\") >= min_avg_rating) & (F.col(\"avg_rating\") <= max_avg_rating)\n",
    "    )\n",
    "    .join(movies_df, \"movieId\")\n",
    "    .withColumn(\"genre\", F.explode(F.split(F.col(\"genres\"), \"\\|\")))  # Genre spalten\n",
    "    .join(popular_genres, \"genre\")  # Nur beliebte Genres\n",
    ")\n",
    "\n",
    "# Zeige ein paar Kandidaten, die als Target-Item verwendet weden könnten\n",
    "target_candidates.show(5)"
   ]
  },
  {
   "cell_type": "code",
   "execution_count": null,
   "id": "a98eae4a-e6a4-4bf4-b454-f1310a779996",
   "metadata": {},
   "outputs": [],
   "source": [
    "# Liste aller verfügbaren MovieIDs aus dem Datensatz abrufen\n",
    "all_movie_ids = ratings.select(\"movieId\").distinct().rdd.flatMap(lambda x: x).collect()\n",
    "\n",
    "# Funktion zum Validieren der eingegebenen MovieID\n",
    "def get_valid_target_item():\n",
    "    while True:\n",
    "        user_input = input(\"Bitte gib die movieId des Ziel-Items ein oder tippe 'zufällig' für ein zufälliges Item: \")\n",
    "        \n",
    "        if user_input.lower() == 'zufällig':\n",
    "            # Wähle ein zufälliges gültiges Item aus der Liste\n",
    "            return random.choice(all_movie_ids)\n",
    "        \n",
    "        try:\n",
    "            # Nutzeraufforderung in eine Zahl umwandeln\n",
    "            target_item = int(user_input)\n",
    "            \n",
    "            # Überprüfen, ob die eingegebene MovieID im Datensatz vorhanden ist\n",
    "            if target_item in all_movie_ids:\n",
    "                return target_item\n",
    "            else:\n",
    "                print(\"Die eingegebene movieId ist ungültig. Bitte versuche es erneut.\")\n",
    "        except ValueError:\n",
    "            print(\"Ungültige Eingabe! Bitte gib eine gültige numerische movieId ein oder tippe 'zufällig'.\")\n",
    "\n",
    "# Abrufen der validierten MovieID vom Nutzer\n",
    "target_item = get_valid_target_item()\n",
    "\n",
    "print(f\"Das Ziel-Item (movieId) für den Angriff lautet: {target_item}\")"
   ]
  },
  {
   "cell_type": "code",
   "execution_count": null,
   "id": "816dfa15-e52d-4c14-aca9-be30ad79b90d",
   "metadata": {},
   "outputs": [],
   "source": [
    "# Gesamtanzahl der User Profile im Datensatz\n",
    "total_user_profiles = ratings.select(\"userId\").distinct().count()\n",
    "\n",
    "# Aufforderung, einen %-Anteil für die Anzahl der Angriffsprofile einzugeben\n",
    "percentage_of_attacks = float(input(\"Bitte gib den Prozentsatz der Angriffsprofile ein (z.B. 5 für 5%): \"))\n",
    "\n",
    "# Berechne die Anzahl der Angriffsprofile basierend auf dem eingegebenen Prozentsatz\n",
    "num_attack_profiles = int((percentage_of_attacks / 100) * total_user_profiles)\n",
    "\n",
    "print(f\"Die Anzahl der Angriffsprofile beträgt: {num_attack_profiles}\")"
   ]
  },
  {
   "cell_type": "code",
   "execution_count": null,
   "id": "f5eddfef-a066-442f-9172-e239e4afe604",
   "metadata": {},
   "outputs": [],
   "source": [
    "# Berechnung der Durchschnittsbewertungen pro MovieID\n",
    "item_avg_ratings = ratings.groupBy(\"movieId\").agg(avg(\"rating\").alias(\"avg_rating\"))\n",
    "item_avg_ratings.show(10)\n",
    "# Konvertiere item_avg_ratings in ein Dictionary für schnellen Zugriff\n",
    "item_avg_ratings_dict = {row[\"movieId\"]: row[\"avg_rating\"] for row in item_avg_ratings.collect()}"
   ]
  },
  {
   "cell_type": "code",
   "execution_count": null,
   "id": "eb41ddbc-2018-4c2b-9725-e79e02e7364c",
   "metadata": {
    "scrolled": true
   },
   "outputs": [],
   "source": [
    "# Berechne die Top 20 populärsten Filme nach Anzahl der Bewertungen\n",
    "popular_items = ratings.groupBy(\"movieId\").count().orderBy(F.col(\"count\").desc()).limit(20)\n",
    "\n",
    "# Filtere das Target-Item heraus, bevor die Liste erstellt wird\n",
    "popular_items_list = [row['movieId'] for row in popular_items.collect() if row['movieId'] != target_item]\n",
    "\n",
    "print(\"Top 20 populäre Items (movieId), ohne das Target-Item:\", popular_items_list)"
   ]
  },
  {
   "cell_type": "code",
   "execution_count": null,
   "id": "e58fcaeb-5b86-4e3f-9e38-a1bccfb85fb5",
   "metadata": {},
   "outputs": [],
   "source": [
    "# DataFrame mit movieId und Genres auswählen\n",
    "movies_with_genres_df = ratings.select(\"movieId\", \"genres\")\n",
    "\n",
    "# Funktion zum Aufteilen der Genres und Erstellen eines Paares (genre, movieId)\n",
    "def split_genres(row):\n",
    "    movie_id = row[\"movieId\"]\n",
    "    genres = row[\"genres\"].split(\"|\")\n",
    "    return [(genre, movie_id) for genre in genres]\n",
    "\n",
    "# RDD erstellen, indem die Genres aufteilt werden und dann nach Genre gruppiert werden\n",
    "movies_by_genre_rdd = movies_with_genres_df.rdd.flatMap(split_genres).groupByKey()\n",
    "\n",
    "# Konvertiere das RDD in ein Dictionary, um schnellen Zugriff auf movieIds nach Genre zu ermöglichen\n",
    "movies_by_genre = movies_by_genre_rdd.mapValues(list).collectAsMap()\n",
    "\n",
    "# Ziel-Item abfragen\n",
    "target_item_genres = movies_with_genres_df.filter(F.col(\"movieId\") == target_item).select(\"genres\").collect()[0][\"genres\"].split('|')\n",
    "\n",
    "# Liste aller Kandidaten für Segment-Items erstellen\n",
    "segment_movies_candidates = []\n",
    "\n",
    "for genre in target_item_genres:\n",
    "    if genre in movies_by_genre:\n",
    "        for movie in movies_by_genre[genre]:\n",
    "            # Nur hinzufügen, wenn das Segment-Item nicht das Target-Item ist und nicht bereits vorhanden ist\n",
    "            if movie != target_item and movie not in segment_movies_candidates:\n",
    "                segment_movies_candidates.append(movie)\n",
    "\n",
    "# Zufällige Auswahl von 20 Segment-Items aus den Kandidaten\n",
    "segment_movies = random.sample(segment_movies_candidates, 20) if len(segment_movies_candidates) > 20 else segment_movies_candidates\n",
    "\n",
    "print(segment_movies_candidates)\n",
    "\n",
    "# Ausgabe der ausgewählten Segment-Items\n",
    "print(segment_movies)"
   ]
  },
  {
   "cell_type": "code",
   "execution_count": null,
   "id": "694ab8d3-59a4-4703-a818-f9173d75ce22",
   "metadata": {},
   "outputs": [],
   "source": [
    "# Funktion zur Generierung von Filler-Ratings nach Normalverteilung, gerundet auf 0.5-Schritte\n",
    "def generate_filler_rating(mean_rating):\n",
    "    # Generiere eine Bewertung nach der Normalverteilung basierend auf dem übergebenen Mittelwert\n",
    "    rating = np.random.normal(mean_rating, stddev_rating)\n",
    "    # Begrenze das Rating auf die Skala von 1 bis 5\n",
    "    rating = max(1.0, min(5.0, rating))\n",
    "    # Runde das Rating auf die nächste halbe Zahl (1, 1.5, 2, ..., 5)\n",
    "    return round(rating * 2) / 2"
   ]
  },
  {
   "cell_type": "code",
   "execution_count": null,
   "id": "a6a20b11-9572-4d6a-bd46-ee7ca28931c5",
   "metadata": {},
   "outputs": [],
   "source": [
    "# Angriffstyp auswählen und validieren\n",
    "attack_type = input(\"Wähle Angriffstyp ('bandwagon', 'random', 'average' oder 'segment'): \").lower()\n",
    "while attack_type not in ['bandwagon', 'random', 'average', 'segment']:\n",
    "    print(\"Ungültige Eingabe! Bitte wähle entweder 'bandwagon', 'random', 'average' oder 'segment'.\")\n",
    "    attack_type = input(\"Wähle Angriffstyp ('bandwagon', 'random', 'average' oder 'segment'): \").lower()"
   ]
  },
  {
   "cell_type": "code",
   "execution_count": null,
   "id": "e3ace4ea-60c7-436e-a923-d00bd649f5b6",
   "metadata": {},
   "outputs": [],
   "source": [
    "# Angriffsart anzeigen\n",
    "print(attack_type)"
   ]
  },
  {
   "cell_type": "code",
   "execution_count": null,
   "id": "09049c76-7d7a-4daa-8f71-9c35cff80a62",
   "metadata": {},
   "outputs": [],
   "source": [
    "# Gruppiere nach 'userId' und zähle die Ratings\n",
    "ratings_per_user = ratings.groupBy(\"userId\").agg(count(\"rating\").alias(\"num_ratings\"))\n",
    "\n",
    "# Berechne den Durchschnitt der Ratings pro Benutzer\n",
    "average_ratings_per_user = ratings_per_user.agg(avg(\"num_ratings\")).collect()[0][0]\n",
    "\n",
    "# Runde den Durchschnitt und ziehe 1 ab\n",
    "rounded_average = round(average_ratings_per_user - 1)\n",
    "\n",
    "# Ausgabe der durchschnittlichen Anzahl an Ratings pro Profil abzüglich von 1\n",
    "print(\"Durchschnittliche Anzahl an Ratings pro Profil (gerundet, nach Abzug von 1):\", rounded_average)"
   ]
  },
  {
   "cell_type": "code",
   "execution_count": null,
   "id": "cf17271d-92e6-40e5-800e-5ded1926c481",
   "metadata": {},
   "outputs": [],
   "source": [
    "# Funktion zur Generierung einer Profilgröße basierend auf einer Normalverteilung\n",
    "def generate_attack_profile_size(average):\n",
    "    # Generiere eine Anzahl von Bewertungen basierend auf einer Normalverteilung\n",
    "    std_dev = 0.5 * average  # Standardabweichung = 50% des Durchschnitts\n",
    "    profile_size = int(np.random.normal(average, std_dev))\n",
    "\n",
    "    # Stelle sicher, dass die Profillänge mindestens 1 ist\n",
    "    profile_size = max(profile_size, 1)\n",
    "    \n",
    "    return profile_size"
   ]
  },
  {
   "cell_type": "code",
   "execution_count": null,
   "id": "ef4ede29-499f-4a93-abda-9314f8e681e2",
   "metadata": {},
   "outputs": [],
   "source": [
    "# Funktion zum Erstellen von Angriffs-Bewertungen für jeden neuen User\n",
    "def generate_attack_ratings(user_id, target_item, popular_items_list, all_movie_ids, attack_type, segment_movies):\n",
    "    ratings_list = []\n",
    "    \n",
    "    # Ziel-Item mit der maximalen Bewertung (5) bewerten\n",
    "    ratings_list.append((user_id, target_item, 5.0, get_current_timestamp()))\n",
    "\n",
    "    # Bestimme die Anzahl der Filler-Items basierend auf der Normalverteilung\n",
    "    num_fillers = generate_attack_profile_size(rounded_average)\n",
    "\n",
    "    # Reduziere die Anzahl der Filler-Items bei Bandwagon und Segment-Angriffen\n",
    "    if attack_type == 'bandwagon' or attack_type == 'segment':\n",
    "        num_fillers = max(num_fillers - 20, 0)  # Setze Untergrenze auf 0\n",
    "    \n",
    "    # Füge populäre Items hinzu bei Bandwagon\n",
    "    if attack_type == 'bandwagon':\n",
    "        # 20 populärste Items mit 5 bewerten\n",
    "        for movie_id in popular_items_list:\n",
    "            ratings_list.append((user_id, movie_id, 5.0, get_current_timestamp()))\n",
    "    \n",
    "    # Füge Segment-Items hinzu bei Segment-Angriff\n",
    "    elif attack_type == 'segment' and segment_movies:\n",
    "        # 20 Items aus der vorbereiteten Segment-Liste bewerten\n",
    "        for movie_id in segment_movies:\n",
    "            ratings_list.append((user_id, movie_id, 5.0, get_current_timestamp()))\n",
    "\n",
    "    # Liste der nicht erlaubten Items (immer das Target-Item)\n",
    "    not_allowed_items = set([target_item])  # Set für Effizienz\n",
    "\n",
    "    # Füge bei Bandwagon-Angriff die populären Items hinzu\n",
    "    if attack_type == 'bandwagon':\n",
    "        not_allowed_items.update(popular_items_list)\n",
    "    \n",
    "    # Füge bei Segment-Angriff die Segment-Items hinzu\n",
    "    if attack_type == 'segment' and segment_movies:\n",
    "        not_allowed_items.update(segment_movies)\n",
    "    \n",
    "    # Filtere die Filler-Items, sodass sie keine \"nicht erlaubten\" Items enthalten\n",
    "    available_filler_items = [movie_id for movie_id in all_movie_ids if movie_id not in not_allowed_items]\n",
    "\n",
    "    # Falls num_fillers größer ist als die verfügbare Anzahl an Filler-Items, passe es an\n",
    "    num_fillers = min(num_fillers, len(available_filler_items))\n",
    "    \n",
    "    # Wähle zufällige Filler-Items aus den verbleibenden Filmen aus\n",
    "    random_movies = random.sample(available_filler_items, num_fillers)\n",
    "    \n",
    "    # Filler-Items bewerten\n",
    "    for movie_id in random_movies:\n",
    "        if attack_type == 'average':\n",
    "            mean_rating = item_avg_ratings_dict.get(movie_id, mean_rating_system)\n",
    "            filler_rating = generate_filler_rating(mean_rating)\n",
    "        elif attack_type == 'segment':\n",
    "            filler_rating = 1.0  # Bei Segment-Angriffen werden Filler-Items immer mit 1 bewertet\n",
    "        else:\n",
    "            filler_rating = generate_filler_rating(mean_rating_system)\n",
    "\n",
    "        ratings_list.append((user_id, movie_id, filler_rating, get_current_timestamp()))\n",
    "    \n",
    "    return ratings_list\n",
    "\n",
    "# Funktion zur Generierung des aktuellen Timestamps mit kleiner Zufallsabweichung\n",
    "def get_current_timestamp():\n",
    "    # Hol den aktuellen Unix-Timestamp\n",
    "    current_timestamp = int(time.time())\n",
    "    \n",
    "    # Füge eine zufällige Zeitabweichung zwischen 0 und 300 Sekunden hinzu\n",
    "    time_offset = random.randint(0, 300)\n",
    "    \n",
    "    return current_timestamp + time_offset\n",
    "\n",
    "# Liste aller verfügbaren Filme\n",
    "all_movie_ids = ratings.select(\"movieId\").distinct().rdd.flatMap(lambda x: x).collect()\n",
    "\n",
    "# Generiere Angriffs-Bewertungen und speichere sie als DataFrame\n",
    "attack_ratings = []\n",
    "for i in range(num_attack_profiles):\n",
    "    user_id = 100000000 + i  # Erstelle eine neue UserID für jeden Angriff (angenommen IDs >= 100000000 sind neu)\n",
    "    \n",
    "    # Erzeuge Angriffsbewertungen\n",
    "    attack_ratings.extend(generate_attack_ratings(\n",
    "        user_id, \n",
    "        target_item, \n",
    "        popular_items_list, \n",
    "        all_movie_ids, \n",
    "        attack_type, \n",
    "        segment_movies\n",
    "    ))\n",
    "\n",
    "# Erstelle ein DataFrame mit den generierten Angriffsbewertungen\n",
    "attack_ratings_df = spark.createDataFrame(attack_ratings, [\"userId\", \"movieId\", \"rating\", \"timestamp\"])\n",
    "\n",
    "# Zeige die ersten 10 Einträge des Angriffs-Dataframes\n",
    "attack_ratings_df.show(10)"
   ]
  },
  {
   "cell_type": "code",
   "execution_count": null,
   "id": "299ab101-b1df-4da1-800a-48e764b92ac3",
   "metadata": {},
   "outputs": [],
   "source": [
    "# Anzahl der Einträge im attack_ratings_df\n",
    "num_entries = attack_ratings_df.count()\n",
    "print(f\"Anzahl der Einträge (Bewertungen) in Angriffsratings: {num_entries}\")"
   ]
  },
  {
   "cell_type": "code",
   "execution_count": null,
   "id": "2728161e-0a2a-4569-a98a-7ee5a5e45e59",
   "metadata": {},
   "outputs": [],
   "source": [
    "# Angriffsart anzeigen\n",
    "print(attack_type)"
   ]
  },
  {
   "cell_type": "code",
   "execution_count": null,
   "id": "8cc7d1e6-a3db-445a-bea4-1c4b44fa4555",
   "metadata": {},
   "outputs": [],
   "source": [
    "# Anzahl verschiedener userIds\n",
    "num_users = attack_ratings_df.select(\"userId\").distinct().count()\n",
    "print(f\"Anzahl verschiedener User IDs in Angriffsratings: {num_users}\")"
   ]
  },
  {
   "cell_type": "code",
   "execution_count": null,
   "id": "f6409391-4f80-44a2-a824-a724d88eac02",
   "metadata": {},
   "outputs": [],
   "source": [
    "# Anzahl verschiedener movieIds\n",
    "num_movies = attack_ratings_df.select(\"movieId\").distinct().count()\n",
    "print(f\"Anzahl verschiedener Movie IDs in Angriffsratings: {num_movies}\")"
   ]
  },
  {
   "cell_type": "code",
   "execution_count": null,
   "id": "ee66c521-5741-4290-a34e-3d924defab89",
   "metadata": {},
   "outputs": [],
   "source": [
    "# Häufigkeit der Ratings im Angriffs-Dataframe\n",
    "rating_counts = attack_ratings_df.groupBy(\"rating\").count().orderBy(\"rating\")\n",
    "rating_counts.show()\n",
    "\n",
    "# Alternativ als Python-Dictionary\n",
    "rating_counts_dict = {row['rating']: row['count'] for row in rating_counts.collect()}\n",
    "print(f\"Häufigkeit der Bewertungen in Angriffsratings: {rating_counts_dict}\")"
   ]
  },
  {
   "cell_type": "code",
   "execution_count": null,
   "id": "42565162-9d0e-43f1-9494-159ab33affb3",
   "metadata": {},
   "outputs": [],
   "source": [
    "# Nur relevante Spalten aus dem ursprünglichen ratings DataFrame auswählen\n",
    "ratings = ratings.select(\"userId\", \"movieId\", \"rating\", \"timestamp\")"
   ]
  },
  {
   "cell_type": "code",
   "execution_count": null,
   "id": "d0e41202-4fab-4ec6-bd75-0a131cbb8fcb",
   "metadata": {},
   "outputs": [],
   "source": [
    "# Ursprüngliche Daten und Angriffs-Daten kombinieren\n",
    "all_ratings = ratings.union(attack_ratings_df)\n",
    "all_ratings.show(10)"
   ]
  },
  {
   "cell_type": "code",
   "execution_count": null,
   "id": "3bd87210-82bb-4f41-85aa-933f735bb8d2",
   "metadata": {},
   "outputs": [],
   "source": [
    "# Häufigkeit der Ratings im Gesamt-Dataframe\n",
    "rating_counts2 = all_ratings.groupBy(\"rating\").count().orderBy(\"rating\")\n",
    "rating_counts2.show()"
   ]
  },
  {
   "cell_type": "code",
   "execution_count": null,
   "id": "faf578d9-fbc8-4b1f-b321-22e2243cc457",
   "metadata": {},
   "outputs": [],
   "source": [
    "# Label-Spalte hinzufügen: 0 für normale User (vorhandene), 1 für Angriffs-User\n",
    "all_ratings = all_ratings.withColumn(\"Label\", \n",
    "                                     when(col(\"userId\") >= 100000000, 1)\n",
    "                                     .otherwise(0))\n",
    "\n",
    "# Überprüfen des finalen Datensatzes\n",
    "all_ratings.show(10)"
   ]
  },
  {
   "cell_type": "code",
   "execution_count": null,
   "id": "31619ecf-2cb2-42af-ba55-fbebfdfe98f6",
   "metadata": {},
   "outputs": [],
   "source": [
    "# Variable mit Namen des Datensatzes\n",
    "datensatz = \"MovieLens32M\""
   ]
  },
  {
   "cell_type": "code",
   "execution_count": null,
   "id": "7f14b95d-f00e-4a5f-baa4-ee68ed881775",
   "metadata": {},
   "outputs": [],
   "source": [
    "# Dynamischer Dateiname basierend auf Datensatz, Angriffsart und Angriffsgröße\n",
    "dateiname = f\"all_ratings_{datensatz}_{attack_type}_{percentage_of_attacks}.csv\"\n",
    "\n",
    "# Speichern des DataFrames mit dem dynamischen Dateinamen\n",
    "all_ratings.coalesce(1).write.csv(dateiname, header=True)"
   ]
  },
  {
   "cell_type": "code",
   "execution_count": null,
   "id": "7bcb0405-4bcd-421e-9a0a-622bda772ab4",
   "metadata": {},
   "outputs": [],
   "source": [
    "# Filter auf userId >= 100000000 (Angreifer)\n",
    "filtered_ratings = all_ratings.filter(col(\"userId\") >= 100000000)\n",
    "\n",
    "# Anzeigen der gefilterten Zeilen\n",
    "filtered_ratings.show(10)"
   ]
  },
  {
   "cell_type": "code",
   "execution_count": null,
   "id": "4b9e2016-8cef-4328-950e-701c8645d4f1",
   "metadata": {},
   "outputs": [],
   "source": [
    "# Filter auf userId >= 100000000\n",
    "filtered_ratings2 = all_ratings.filter(col(\"userId\") == 100000000)\n",
    "\n",
    "# Anzeigen der Bewertungen von Nutzer mit userId 100000000\n",
    "filtered_ratings2.show(10)\n",
    "\n",
    "# Häufigkeit der Ratings bei User 100000000\n",
    "rating_counts2 = filtered_ratings2.groupBy(\"rating\").count().orderBy(\"rating\")\n",
    "rating_counts2.show()\n",
    "\n",
    "# Alternativ als Python-Dictionary\n",
    "rating_counts_dict2 = {row['rating']: row['count'] for row in rating_counts2.collect()}\n",
    "print(f\"Häufigkeit der Bewertungen: {rating_counts_dict2}\")"
   ]
  },
  {
   "cell_type": "code",
   "execution_count": null,
   "id": "dbfde37f-6ed5-44ff-a0d2-82f2123233c1",
   "metadata": {},
   "outputs": [],
   "source": [
    "# Berechne den Durchschnitt der Bewertungen für userId 100000000\n",
    "average_rating_user = attack_ratings_df.filter(col(\"userId\") == 100000000).agg(avg(\"rating\")).collect()[0][0]\n",
    "\n",
    "print(f\"Der Durchschnitt der Bewertungen von User 100000000 ist: {average_rating_user}\")"
   ]
  },
  {
   "cell_type": "code",
   "execution_count": null,
   "id": "e90c522e-aff0-4088-9c33-f961a9b73bf9",
   "metadata": {},
   "outputs": [],
   "source": [
    "# Berechne die neue durchschnittliche Bewertung im Gesamt-Dataframe nach einem Angriff\n",
    "mean_rating2 = all_ratings.agg({\"rating\": \"avg\"}).collect()[0][0]\n",
    "print(mean_rating2)"
   ]
  },
  {
   "cell_type": "code",
   "execution_count": null,
   "id": "39e2cb35-f491-459d-95a5-0aeb9fc87fcc",
   "metadata": {},
   "outputs": [],
   "source": [
    "# Anzahl aller Ratings im Angriffs-DataFrame\n",
    "total_ratings_count_attack = attack_ratings_df.count()\n",
    "\n",
    "# Ausgabe der Anzahl der Ratings\n",
    "print(\"Anzahl aller Angriffsratings:\", total_ratings_count_attack)"
   ]
  },
  {
   "cell_type": "code",
   "execution_count": null,
   "id": "eeb74825-ae0f-48fb-9932-8fdc5938fa2e",
   "metadata": {},
   "outputs": [],
   "source": [
    "# Anzahl aller Ratings im Gesamt-Dataframe\n",
    "total_ratings_count = all_ratings.count()\n",
    "\n",
    "# Ausgabe der Anzahl der Ratings\n",
    "print(\"Anzahl aller Ratings:\", total_ratings_count)"
   ]
  },
  {
   "cell_type": "code",
   "execution_count": null,
   "id": "35cc9c25-d0b2-48b7-8ab6-97838328d86c",
   "metadata": {},
   "outputs": [],
   "source": [
    "# Definiere die User-IDs für die Abfrage\n",
    "user_ids_mio = [i for i in range(100000000, 100000021)]  # User von 100000000 bis 100000020\n",
    "\n",
    "# Filtere den Datensatz für die gewünschten User und zähle die Ratings pro User\n",
    "ratings_count_mio = all_ratings.filter(F.col(\"userId\").isin(user_ids_mio)) \\\n",
    "                       .groupBy(\"userId\") \\\n",
    "                       .agg(F.count(\"rating\").alias(\"num_ratings\")) \\\n",
    "                       .orderBy(\"userId\")\n",
    "\n",
    "# Zeige die Anzahl der Ratings für die angegebenen User\n",
    "ratings_count_mio.show()"
   ]
  },
  {
   "cell_type": "code",
   "execution_count": null,
   "id": "3353f9cf-48b8-4599-be1b-a16559f96503",
   "metadata": {},
   "outputs": [],
   "source": [
    "# Beende die Spark-Session\n",
    "spark.stop()"
   ]
  }
 ],
 "metadata": {
  "kernelspec": {
   "display_name": "Python 3 (ipykernel)",
   "language": "python",
   "name": "python3"
  },
  "language_info": {
   "codemirror_mode": {
    "name": "ipython",
    "version": 3
   },
   "file_extension": ".py",
   "mimetype": "text/x-python",
   "name": "python",
   "nbconvert_exporter": "python",
   "pygments_lexer": "ipython3",
   "version": "3.11.7"
  }
 },
 "nbformat": 4,
 "nbformat_minor": 5
}
