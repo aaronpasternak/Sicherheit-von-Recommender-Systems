{
 "cells": [
  {
   "cell_type": "code",
   "execution_count": null,
   "id": "384cdb4a-a3fb-47d5-ad21-f30323d74d8b",
   "metadata": {},
   "outputs": [],
   "source": [
    "# Importieren der erforderlichen Bibliotheken\n",
    "from pyspark.sql import SparkSession\n",
    "import matplotlib.pyplot as plt\n",
    "import seaborn as sns\n",
    "from matplotlib.ticker import FuncFormatter"
   ]
  },
  {
   "cell_type": "code",
   "execution_count": null,
   "id": "5d20655e-45c9-4f60-903b-0d02f593ee35",
   "metadata": {},
   "outputs": [],
   "source": [
    "# Spark-Session erstellen\n",
    "spark = SparkSession.builder \\\n",
    "    .appName(\"Yelp Visualisierung\") \\\n",
    "    .config(\"spark.driver.memory\", \"8g\") \\\n",
    "    .getOrCreate()"
   ]
  },
  {
   "cell_type": "code",
   "execution_count": null,
   "id": "72840e71-504b-4c3e-b2be-5460a577ad66",
   "metadata": {},
   "outputs": [],
   "source": [
    "# JSON-Daten mit PySpark laden\n",
    "reviews_df = spark.read.json(\"yelp_academic_dataset_review.json\")\n",
    "users_df = spark.read.json(\"yelp_academic_dataset_user.json\")\n",
    "business_df = spark.read.json(\"yelp_academic_dataset_business.json\")"
   ]
  },
  {
   "cell_type": "code",
   "execution_count": null,
   "id": "0a130fb2-428b-4d9c-94fd-0012738f2bf5",
   "metadata": {},
   "outputs": [],
   "source": [
    "# Erste Untersuchung der Daten\n",
    "reviews_df.printSchema()\n",
    "users_df.printSchema()\n",
    "business_df.printSchema()"
   ]
  },
  {
   "cell_type": "code",
   "execution_count": null,
   "id": "c9e2ec21-6cde-4a42-a68c-737916f7b7d5",
   "metadata": {},
   "outputs": [],
   "source": [
    "# PySpark-Operationen: Mergen der Daten\n",
    "reviews = reviews_df.join(business_df, on=\"business_id\", how=\"inner\")"
   ]
  },
  {
   "cell_type": "code",
   "execution_count": null,
   "id": "943bd55f-8553-4f5b-9db9-17eab4e8941a",
   "metadata": {},
   "outputs": [],
   "source": [
    "# Spalten umbenennen, um Mehrdeutigkeiten zu vermeiden\n",
    "reviews_df = reviews_df.withColumnRenamed(\"stars\", \"review_stars\")\n",
    "business_df = business_df.withColumnRenamed(\"stars\", \"business_stars\")\n",
    "\n",
    "# PySpark-Operationen: Mergen der Daten\n",
    "reviews = reviews_df.join(business_df, on=\"business_id\", how=\"inner\")\n",
    "\n",
    "# Konvertiere das PySpark DataFrame in Pandas DataFrame\n",
    "reviews = reviews.select(\"user_id\", \"business_id\", \"review_stars\", \"name\", \"state\").toPandas()\n",
    "business_df = business_df.select(\"business_id\", \"name\", \"state\").toPandas()"
   ]
  },
  {
   "cell_type": "code",
   "execution_count": null,
   "id": "7cd6f503-1bff-4685-bba6-ee308257573b",
   "metadata": {},
   "outputs": [],
   "source": [
    "# Anzahl Reviews insgesamt\n",
    "total_reviews = reviews.shape[0]\n",
    "print(f\"Anzahl Reviews insgesamt: {total_reviews}\")\n",
    "\n",
    "# Anzahl verschiedener Nutzer\n",
    "unique_users = reviews['user_id'].nunique()\n",
    "print(f\"Anzahl verschiedener Nutzer: {unique_users}\")\n",
    "\n",
    "# Anzahl verschiedener Unternehmen\n",
    "unique_businesses = reviews['business_id'].nunique()\n",
    "print(f\"Anzahl verschiedener Businesses: {unique_businesses}\")\n",
    "\n",
    "# Anzahl verschiedener Bundesstaaten\n",
    "all_states = business_df['state'].dropna().unique()\n",
    "unique_states = len(all_states)\n",
    "print(f\"Anzahl verschiedener States: {unique_states}\")"
   ]
  },
  {
   "cell_type": "code",
   "execution_count": null,
   "id": "28e644c1-3921-4766-ad26-8ffa9aa29704",
   "metadata": {},
   "outputs": [],
   "source": [
    "# Doppelte Kombinationen von user_id und business_id finden\n",
    "duplicates = reviews.groupby(['user_id', 'business_id']).size()\n",
    "duplicate_count = (duplicates > 1).sum()\n",
    "print(f\"Anzahl der doppelten Bewertungen: {duplicate_count}\")"
   ]
  },
  {
   "cell_type": "code",
   "execution_count": null,
   "id": "8a4d2881-d427-4c7b-a533-5e1fdc20201f",
   "metadata": {},
   "outputs": [],
   "source": [
    "# Bewertungen pro Nutzer berechnen\n",
    "user_reviews_count = reviews.groupby('user_id').size()\n",
    "\n",
    "# Nutzer mit mindestens 1, 3 und 5 Bewertungen zählen\n",
    "users_1 = (user_reviews_count == 1).sum()\n",
    "users_min_1 = (user_reviews_count >= 1).sum()\n",
    "users_min_30 = (user_reviews_count >= 30).sum()\n",
    "users_min_50 = (user_reviews_count >= 50).sum()\n",
    "\n",
    "print(f\"Anzahl der Nutzer mit genau 1 Bewertung: {users_1}\")\n",
    "print(f\"Anzahl der Nutzer mit mindestens 1 Bewertung: {users_min_1}\")\n",
    "print(f\"Anzahl der Nutzer mit mindestens 30 Bewertungen: {users_min_30}\")\n",
    "print(f\"Anzahl der Nutzer mit mindestens 50 Bewertungen: {users_min_50}\")"
   ]
  },
  {
   "cell_type": "code",
   "execution_count": null,
   "id": "83558099-fe14-42c7-b95f-e15a2fcfcf6c",
   "metadata": {},
   "outputs": [],
   "source": [
    "# Nutzer mit ausschließlich demselben Rating\n",
    "user_unique_reviews = reviews.groupby('user_id')['review_stars'].nunique()\n",
    "num_users_with_same_reviews = (user_unique_reviews == 1).sum()\n",
    "print(f\"Anzahl der Benutzer mit ausschließlich demselben Rating: {num_users_with_same_reviews}\")"
   ]
  },
  {
   "cell_type": "code",
   "execution_count": null,
   "id": "109913c5-c303-49aa-9b05-b177fce52440",
   "metadata": {},
   "outputs": [],
   "source": [
    "# Bewertungen pro Business berechnen\n",
    "business_reviews_count = reviews.groupby('business_id').size()\n",
    "\n",
    "# Businesses mit mindestens 1, 3 und 5 Bewertungen zählen\n",
    "businesses_min_1 = (business_reviews_count >= 1).sum()\n",
    "businesses_min_3 = (business_reviews_count >= 3).sum()\n",
    "businesses_min_5 = (business_reviews_count >= 5).sum()\n",
    "\n",
    "print(f\"Anzahl der Businesses mit mindestens 1 Bewertung: {businesses_min_1}\")\n",
    "print(f\"Anzahl der Businesses mit mindestens 3 Bewertungen: {businesses_min_3}\")\n",
    "print(f\"Anzahl der Businesses mit mindestens 5 Bewertungen: {businesses_min_5}\")"
   ]
  },
  {
   "cell_type": "code",
   "execution_count": null,
   "id": "c17a2a4c-629f-4844-a20b-0a7913af76b5",
   "metadata": {},
   "outputs": [],
   "source": [
    "# Durchschnittliche Bewertung pro Business\n",
    "avg_rating_per_business = reviews.groupby('business_id')['review_stars'].mean()\n",
    "print(avg_rating_per_business.describe())"
   ]
  },
  {
   "cell_type": "code",
   "execution_count": null,
   "id": "e14a03bf-caef-41e7-a4b7-619c9a8859b8",
   "metadata": {},
   "outputs": [],
   "source": [
    "# Durchschnittliche Bewertung pro Nutzer\n",
    "avg_rating_per_user = reviews.groupby('user_id')['review_stars'].mean()\n",
    "print(avg_rating_per_user.describe())"
   ]
  },
  {
   "cell_type": "code",
   "execution_count": null,
   "id": "65016677-666e-4054-b7b3-da10a56cbf6e",
   "metadata": {},
   "outputs": [],
   "source": [
    "# Ratings-Verteilung\n",
    "rating_distribution = reviews['review_stars'].value_counts().sort_index()\n",
    "\n",
    "# Visualisierungen\n",
    "plt.figure(figsize=(10, 6))\n",
    "rating_distribution.plot(kind='bar', color='skyblue')\n",
    "plt.xlabel('Rating')\n",
    "plt.ylabel('Anzahl der Bewertungen')\n",
    "\n",
    "# Ticks für die Y-Achse festlegen (lineare Skala)\n",
    "ticks = [1_000_000, 2_000_000, 3_000_000]\n",
    "plt.yticks(ticks)  # Manuelle Ticks setzen\n",
    "\n",
    "# Y-Achse formatieren: Keine wissenschaftliche Notation, sondern Klartext\n",
    "def linear_format(x, _):\n",
    "    return f'{int(x):,}'\n",
    "\n",
    "plt.gca().yaxis.set_major_formatter(FuncFormatter(linear_format))\n",
    "\n",
    "# Achsenbeschriftungen anpassen\n",
    "plt.xticks(rotation=0)  # X-Achse bleibt aufrecht\n",
    "\n",
    "# Diagramm speichern\n",
    "plt.savefig(\"RatingsVerteilung_Yelp.png\", dpi=300, bbox_inches=\"tight\")\n",
    "plt.show()"
   ]
  },
  {
   "cell_type": "code",
   "execution_count": null,
   "id": "4dea4ad4-61a6-4d7d-b479-08fe5c69d74a",
   "metadata": {},
   "outputs": [],
   "source": [
    "# Verteilung der Bewertungen pro Nutzer\n",
    "user_reviews_count.plot.hist(bins=50, color='lightgreen')\n",
    "plt.xlabel('Anzahl der Bewertungen')\n",
    "plt.ylabel('Anzahl der Nutzer')\n",
    "plt.yscale('log')\n",
    "\n",
    "# Y-Achse mit normalen Zahlen beschriften\n",
    "def log_format(x, _):\n",
    "    return f'{int(x):,}' if x >= 1 else ''\n",
    "\n",
    "plt.gca().yaxis.set_major_formatter(FuncFormatter(log_format))\n",
    "plt.savefig(\"AnzahlBewertungenNutzer_Yelp.png\", dpi=300, bbox_inches=\"tight\")\n",
    "plt.show()"
   ]
  },
  {
   "cell_type": "code",
   "execution_count": null,
   "id": "7da20a06-0e4b-4720-a4cf-45a504b94f25",
   "metadata": {},
   "outputs": [],
   "source": [
    "# Top 10 Nutzer mit den meisten Bewertungen\n",
    "top_users = user_reviews_count.nlargest(10)\n",
    "top_users.plot(kind='bar', color='orange', title='Top 10 Nutzer mit den meisten Bewertungen')\n",
    "plt.xlabel('Nutzer-ID')\n",
    "plt.ylabel('Anzahl der Bewertungen')\n",
    "plt.show()"
   ]
  },
  {
   "cell_type": "code",
   "execution_count": null,
   "id": "2eb0f480-13de-4145-9498-023c5663b9c9",
   "metadata": {},
   "outputs": [],
   "source": [
    "# Histogramm der durchschnittlichen Bewertungen pro Benutzer\n",
    "plt.figure(figsize=(10, 6))\n",
    "sns.histplot(avg_rating_per_user, bins=20, color='purple')\n",
    "plt.title('Durchschnittliche Bewertung pro Benutzer')\n",
    "plt.xlabel('Durchschnittliche Bewertung')\n",
    "plt.ylabel('Anzahl der Benutzer')\n",
    "plt.show()"
   ]
  },
  {
   "cell_type": "code",
   "execution_count": null,
   "id": "20c3400b-95be-4ca6-926e-5b5aad0bfb72",
   "metadata": {},
   "outputs": [],
   "source": [
    "# Verteilung der Anzahl von Bewertungen pro Unternehmen\n",
    "business_reviews_count = reviews.groupby('business_id').size()\n",
    "\n",
    "plt.figure(figsize=(10, 6))\n",
    "plt.hist(business_reviews_count, bins=50, color='lightgreen')\n",
    "plt.title('Verteilung der Anzahl von Bewertungen pro Business')\n",
    "plt.xlabel('Anzahl der Bewertungen')\n",
    "plt.ylabel('Anzahl der Businesses')\n",
    "\n",
    "# Achse auf logarithmische Skala setzen\n",
    "plt.yscale('log')\n",
    "\n",
    "# Y-Achse mit normalen Zahlen beschriften\n",
    "def log_format(x, _):\n",
    "    return f'{int(x):,}' if x >= 1 else ''\n",
    "\n",
    "plt.gca().yaxis.set_major_formatter(FuncFormatter(log_format))\n",
    "\n",
    "plt.show()"
   ]
  },
  {
   "cell_type": "code",
   "execution_count": null,
   "id": "dd425ab3-7828-4e75-a74a-2d97ff3178ad",
   "metadata": {},
   "outputs": [],
   "source": [
    "# Durchschnittliche Bewertung der Top 10 Unternehmen (nach Anzahl Bewertungen)\n",
    "top_business_counts = reviews['business_id'].value_counts().head(10)\n",
    "top_business_titles = business_df[business_df['business_id'].isin(top_business_counts.index)]\n",
    "business_id_to_name = dict(zip(top_business_titles['business_id'], top_business_titles['name']))\n",
    "top_avg_ratings = avg_rating_per_business.loc[top_business_counts.index]\n",
    "top_avg_ratings.index = top_avg_ratings.index.map(business_id_to_name)\n",
    "plt.figure(figsize=(12, 6))\n",
    "sns.barplot(x=top_avg_ratings.index, y=top_avg_ratings.values, palette='viridis')\n",
    "plt.title('Durchschnittliche Bewertung der Top 10 Businesses')\n",
    "plt.xlabel('Business-Name')\n",
    "plt.ylabel('Durchschnittliche Bewertung')\n",
    "plt.xticks(rotation=45, ha='right')\n",
    "plt.show()"
   ]
  },
  {
   "cell_type": "code",
   "execution_count": null,
   "id": "21620d8a-f9dd-4bd1-91be-cb6737162bf8",
   "metadata": {},
   "outputs": [],
   "source": [
    "# Top 10 Unternehmen mit den meisten Bewertungen\n",
    "top_business_counts = reviews['business_id'].value_counts().head(10)\n",
    "top_business_titles = business_df[business_df['business_id'].isin(top_business_counts.index)]\n",
    "business_id_to_name = dict(zip(top_business_titles['business_id'], top_business_titles['name']))\n",
    "top_business_counts.index = top_business_counts.index.map(business_id_to_name)\n",
    "plt.figure(figsize=(12, 6))\n",
    "sns.barplot(x=top_business_counts.index, y=top_business_counts.values, palette='viridis')\n",
    "plt.title('Top 10 Businesses mit den meisten Bewertungen')\n",
    "plt.xlabel('Business-Name')\n",
    "plt.ylabel('Anzahl der Bewertungen')\n",
    "plt.xticks(rotation=45, ha='right')\n",
    "plt.show()"
   ]
  },
  {
   "cell_type": "code",
   "execution_count": null,
   "id": "fc1479ca-8d31-4332-ae01-cc5973b4662d",
   "metadata": {},
   "outputs": [],
   "source": [
    "# Beende die Spark-Session\n",
    "spark.stop()"
   ]
  }
 ],
 "metadata": {
  "kernelspec": {
   "display_name": "Python 3 (ipykernel)",
   "language": "python",
   "name": "python3"
  },
  "language_info": {
   "codemirror_mode": {
    "name": "ipython",
    "version": 3
   },
   "file_extension": ".py",
   "mimetype": "text/x-python",
   "name": "python",
   "nbconvert_exporter": "python",
   "pygments_lexer": "ipython3",
   "version": "3.11.7"
  }
 },
 "nbformat": 4,
 "nbformat_minor": 5
}
