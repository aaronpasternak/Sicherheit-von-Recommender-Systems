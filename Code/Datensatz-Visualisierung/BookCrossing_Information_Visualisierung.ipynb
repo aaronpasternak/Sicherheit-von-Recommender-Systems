{
 "cells": [
  {
   "cell_type": "code",
   "execution_count": null,
   "id": "f45574cc-445b-4b23-b83d-66b1f79d3f7c",
   "metadata": {},
   "outputs": [],
   "source": [
    "# Importieren der erforderlichen Bibliotheken\n",
    "import pandas as pd\n",
    "import matplotlib.pyplot as plt\n",
    "import seaborn as sns\n",
    "from matplotlib.ticker import FuncFormatter"
   ]
  },
  {
   "cell_type": "code",
   "execution_count": null,
   "id": "23adda7a-4eac-46e6-b774-ca8579f2961f",
   "metadata": {
    "scrolled": true
   },
   "outputs": [],
   "source": [
    "# Dateien laden\n",
    "books_df = pd.read_csv(\"BX_Books.csv\", sep=';', encoding='latin1', on_bad_lines='skip')\n",
    "users_df = pd.read_csv(\"BX-Users.csv\", sep=';', encoding='latin1', on_bad_lines='skip')\n",
    "ratings_df = pd.read_csv(\"BX-Book-Ratings.csv\", sep=';', encoding='latin1', on_bad_lines='skip')"
   ]
  },
  {
   "cell_type": "code",
   "execution_count": null,
   "id": "066486c9-5123-4412-ac20-537a68df6324",
   "metadata": {},
   "outputs": [],
   "source": [
    "# Zusammenführen der Daten\n",
    "ratings = pd.merge(ratings_df, books_df[['ISBN', 'Book-Title']], on='ISBN', how='inner')\n",
    "ratings = pd.merge(ratings, users_df[['User-ID', 'Age']], on='User-ID', how='inner')"
   ]
  },
  {
   "cell_type": "code",
   "execution_count": null,
   "id": "41ab4095-88d9-4299-a3a6-9ca91f3f7414",
   "metadata": {},
   "outputs": [],
   "source": [
    "# Spaltennamen bereinigen (entfernt Leerzeichen und unbenannte Spalten)\n",
    "books_df.columns = books_df.columns.str.strip()\n",
    "users_df.columns = users_df.columns.str.strip()\n",
    "ratings_df.columns = ratings_df.columns.str.strip()"
   ]
  },
  {
   "cell_type": "code",
   "execution_count": null,
   "id": "bd6e355a-b8b5-4cbe-a83b-94d684970b36",
   "metadata": {},
   "outputs": [],
   "source": [
    "# Daten untersuchen\n",
    "print(\"Schema:\")\n",
    "print(ratings_df.info())"
   ]
  },
  {
   "cell_type": "code",
   "execution_count": null,
   "id": "9a46391a-2313-4773-bae0-e6770400d890",
   "metadata": {},
   "outputs": [],
   "source": [
    "print(\"Anzahl der Zeilen und Spalten:\")\n",
    "print(f\"Zeilen: {ratings_df.shape[0]}, Spalten: {ratings_df.shape[1]}\")"
   ]
  },
  {
   "cell_type": "code",
   "execution_count": null,
   "id": "7db9f805-c01e-4536-8016-0962507c79cc",
   "metadata": {},
   "outputs": [],
   "source": [
    "print(\"Erste Zeilen:\")\n",
    "print(ratings_df.head())"
   ]
  },
  {
   "cell_type": "code",
   "execution_count": null,
   "id": "13aed4f9-5a5f-4639-bc00-c3bb2124f323",
   "metadata": {},
   "outputs": [],
   "source": [
    "# Temporäre Änderung der Anzeigeoptionen für float-Werte auf zwei Nachkommastellen\n",
    "with pd.option_context('display.float_format', '{:,.2f}'.format):\n",
    "    print(\"Descriptive Stats:\")\n",
    "    print(ratings_df['Book-Rating'].describe())"
   ]
  },
  {
   "cell_type": "code",
   "execution_count": null,
   "id": "fe7de7be-f64c-42fc-abb7-a20e629bc554",
   "metadata": {},
   "outputs": [],
   "source": [
    "# Anzahl der Bewertungen insgesamt\n",
    "total_ratings = ratings_df.shape[0]\n",
    "print(f\"Anzahl Bewertungen insgesamt: {total_ratings}\")\n",
    "\n",
    "# Anzahl verschiedener Nutzer\n",
    "unique_users = ratings_df['User-ID'].nunique()\n",
    "print(f\"Anzahl verschiedener Nutzer: {unique_users}\")\n",
    "\n",
    "# Anzahl verschiedener Bücher\n",
    "unique_books = ratings_df['ISBN'].nunique()\n",
    "print(f\"Anzahl verschiedener Bücher: {unique_books}\")\n",
    "\n",
    "# Anzahl verschiedener Publisher\n",
    "unique_publishers = books_df['Publisher'].nunique()\n",
    "print(f\"Anzahl verschiedener Publisher: {unique_publishers}\")"
   ]
  },
  {
   "cell_type": "code",
   "execution_count": null,
   "id": "2fe068ed-c4ad-48e0-88e5-17192c7f764d",
   "metadata": {},
   "outputs": [],
   "source": [
    "# Doppelte Kombinationen von userId und ISBN finden\n",
    "duplicates = ratings_df.groupby(['User-ID', 'ISBN']).size()\n",
    "duplicate_count = (duplicates > 1).sum()\n",
    "print(f\"Anzahl der doppelten Bewertungen: {duplicate_count}\")"
   ]
  },
  {
   "cell_type": "code",
   "execution_count": null,
   "id": "0d629aca-1a63-4493-b960-c4939df15a76",
   "metadata": {},
   "outputs": [],
   "source": [
    "# Bewertungen pro Nutzer berechnen\n",
    "user_ratings_count = ratings_df.groupby('User-ID').size()\n",
    "\n",
    "# Nutzer mit mindestens 1, 3 und 5 Bewertungen zählen\n",
    "users_1 = (user_ratings_count == 1).sum()\n",
    "users_min_1 = (user_ratings_count >= 1).sum()\n",
    "users_min_30 = (user_ratings_count >= 30).sum()\n",
    "users_min_50 = (user_ratings_count >= 50).sum()\n",
    "\n",
    "print(f\"Anzahl der Nutzer mit genau 1 Bewertung: {users_1}\")\n",
    "print(f\"Anzahl der Nutzer mit mindestens 1 Bewertung: {users_min_1}\")\n",
    "print(f\"Anzahl der Nutzer mit mindestens 30 Bewertungen: {users_min_30}\")\n",
    "print(f\"Anzahl der Nutzer mit mindestens 50 Bewertungen: {users_min_50}\")"
   ]
  },
  {
   "cell_type": "code",
   "execution_count": null,
   "id": "e2a22f12-a4ea-41bf-9a6d-7499c2def3cf",
   "metadata": {},
   "outputs": [],
   "source": [
    "# Nutzer mit ausschließlich demselben Rating zählen\n",
    "user_unique_ratings = ratings_df.groupby('User-ID')['Book-Rating'].nunique()\n",
    "num_users_with_same_ratings = (user_unique_ratings == 1).sum()\n",
    "print(f\"Anzahl der Benutzer mit ausschließlich demselben Rating: {num_users_with_same_ratings}\")"
   ]
  },
  {
   "cell_type": "code",
   "execution_count": null,
   "id": "e6222768-eaa2-4e09-89b8-5f7de8207864",
   "metadata": {},
   "outputs": [],
   "source": [
    "# Bewertungen pro Buch berechnen\n",
    "book_ratings_count = ratings_df.groupby('ISBN').size()\n",
    "\n",
    "# Bücher mit mindestens 1, 3 und 5 Bewertungen zählen\n",
    "books_min_0 = (book_ratings_count == 0).sum()\n",
    "books_min_1 = (book_ratings_count >= 1).sum()\n",
    "books_min_3 = (book_ratings_count >= 3).sum()\n",
    "books_min_5 = (book_ratings_count >= 5).sum()\n",
    "\n",
    "print(f\"Anzahl der Bücher mit mindestens 0 Bewertung: {books_min_0}\")\n",
    "print(f\"Anzahl der Bücher mit mindestens 1 Bewertung: {books_min_1}\")\n",
    "print(f\"Anzahl der Bücher mit mindestens 3 Bewertungen: {books_min_3}\")\n",
    "print(f\"Anzahl der Bücher mit mindestens 5 Bewertungen: {books_min_5}\")"
   ]
  },
  {
   "cell_type": "code",
   "execution_count": null,
   "id": "26f2c628-fbbc-460f-8a9f-efcc6754633e",
   "metadata": {},
   "outputs": [],
   "source": [
    "# Durchschnittliche Bewertung pro Buch\n",
    "avg_rating_per_book = ratings_df.groupby('ISBN')['Book-Rating'].mean()\n",
    "print(avg_rating_per_book.describe())"
   ]
  },
  {
   "cell_type": "code",
   "execution_count": null,
   "id": "9aa58d85-65d2-435e-b24a-4f71113d10eb",
   "metadata": {},
   "outputs": [],
   "source": [
    "# Durchschnittliche Bewertung pro Benutzer\n",
    "avg_rating_per_user = ratings_df.groupby('User-ID')['Book-Rating'].mean()\n",
    "print(avg_rating_per_user.describe())"
   ]
  },
  {
   "cell_type": "code",
   "execution_count": null,
   "id": "fd11d3a0-45ee-441c-8a41-7e3daa45b548",
   "metadata": {},
   "outputs": [],
   "source": [
    "# Ratings-Verteilung\n",
    "rating_distribution = ratings_df['Book-Rating'].value_counts().sort_index()\n",
    "\n",
    "# Visualisierungen\n",
    "plt.figure(figsize=(10, 6))\n",
    "rating_distribution.plot(kind='bar', color='skyblue')\n",
    "plt.xlabel('Rating')\n",
    "plt.ylabel('Anzahl der Bewertungen')\n",
    "\n",
    "# Achsenbeschriftungen anpassen\n",
    "plt.xticks(rotation=0)  # X-Achse: Werte bleiben aufrecht\n",
    "\n",
    "# Diagramm speichern\n",
    "plt.savefig(\"RatingsVerteilung_BookCrossing.png\", dpi=300, bbox_inches=\"tight\")\n",
    "plt.show()"
   ]
  },
  {
   "cell_type": "code",
   "execution_count": null,
   "id": "6640a4a4-a452-4afa-9527-88fbf947bcda",
   "metadata": {},
   "outputs": [],
   "source": [
    "# Verteilung der Bewertungen pro Nutzer\n",
    "user_ratings_count.plot.hist(bins=50, color='lightgreen')\n",
    "plt.xlabel('Anzahl der Bewertungen')\n",
    "plt.ylabel('Anzahl der Nutzer')\n",
    "plt.yscale('log')\n",
    "\n",
    "# Y-Achse mit normalen Zahlen beschriften\n",
    "def log_format(x, _):\n",
    "    return f'{int(x):,}' if x >= 1 else ''\n",
    "\n",
    "plt.gca().yaxis.set_major_formatter(FuncFormatter(log_format))\n",
    "\n",
    "plt.savefig(\"AnzahlBewertungenNutzer_BookCrossing.png\", dpi=300, bbox_inches=\"tight\")\n",
    "plt.show()"
   ]
  },
  {
   "cell_type": "code",
   "execution_count": null,
   "id": "418b2788-1a38-4279-85e4-90010159d40f",
   "metadata": {},
   "outputs": [],
   "source": [
    "# Top 10 Nutzer mit den meisten Bewertungen\n",
    "top_users = user_ratings_count.nlargest(10)\n",
    "top_users.plot(kind='bar', color='orange', title='Top 10 Nutzer mit den meisten Bewertungen')\n",
    "plt.xlabel('Nutzer-ID')\n",
    "plt.ylabel('Anzahl der Bewertungen')\n",
    "plt.show()"
   ]
  },
  {
   "cell_type": "code",
   "execution_count": null,
   "id": "62e84732-1dec-487f-8e6c-194f97bf35d7",
   "metadata": {},
   "outputs": [],
   "source": [
    "# Histogramm der durchschnittlichen Bewertungen pro Benutzer\n",
    "plt.figure(figsize=(10, 6))\n",
    "sns.histplot(avg_rating_per_user, bins=20, color='purple')\n",
    "plt.title('Durchschnittliche Bewertung pro Benutzer')\n",
    "plt.xlabel('Durchschnittliche Bewertung')\n",
    "plt.ylabel('Anzahl der Benutzer')\n",
    "plt.show()"
   ]
  },
  {
   "cell_type": "code",
   "execution_count": null,
   "id": "7cd7cb3d-5a33-4006-b786-1ab92b839c0a",
   "metadata": {},
   "outputs": [],
   "source": [
    "# Verteilung der Anzahl von Bewertungen pro Buch\n",
    "book_rating_counts = ratings.groupby('ISBN').size()\n",
    "\n",
    "plt.figure(figsize=(10, 6))\n",
    "plt.hist(book_rating_counts, bins=50, color='lightgreen')\n",
    "plt.title('Verteilung der Anzahl von Bewertungen pro Buch')\n",
    "plt.xlabel('Anzahl der Bewertungen')\n",
    "plt.ylabel('Anzahl der Bücher')\n",
    "\n",
    "# Achse auf logarithmische Skala setzen\n",
    "plt.yscale('log')\n",
    "\n",
    "# Y-Achse mit normalen Zahlen beschriften\n",
    "def log_format(x, _):\n",
    "    return f'{int(x):,}' if x >= 1 else ''\n",
    "\n",
    "plt.gca().yaxis.set_major_formatter(FuncFormatter(log_format))\n",
    "\n",
    "plt.show()"
   ]
  },
  {
   "cell_type": "code",
   "execution_count": null,
   "id": "9e33a766-26c9-4d3f-95e1-ed3bab6f6ef0",
   "metadata": {},
   "outputs": [],
   "source": [
    "# Durchschnittliche Bewertung der Top 10 Bücher (nach Anzahl Bewertungen)\n",
    "avg_rating_per_book = ratings.groupby('Book-Title')['Book-Rating'].mean()\n",
    "top_books = ratings['Book-Title'].value_counts().head(10)\n",
    "top_avg_ratings = avg_rating_per_book.loc[top_books.index]\n",
    "plt.figure(figsize=(12, 6))\n",
    "sns.barplot(x=top_avg_ratings.index, y=top_avg_ratings.values, palette='viridis')\n",
    "plt.title('Durchschnittliche Bewertung der Top 10 Bücher')\n",
    "plt.xlabel('Buchtitel')\n",
    "plt.ylabel('Durchschnittliche Bewertung')\n",
    "plt.xticks(rotation=45, ha='right')\n",
    "plt.show()"
   ]
  },
  {
   "cell_type": "code",
   "execution_count": null,
   "id": "bf6b6ff2-1536-4974-82f5-67f7932dfeaa",
   "metadata": {},
   "outputs": [],
   "source": [
    "# Top 10 Bücher mit den meisten Bewertungen\n",
    "plt.figure(figsize=(12, 6))\n",
    "sns.barplot(x=top_books.index, y=top_books.values, palette='viridis')\n",
    "plt.title('Top 10 Bücher mit den meisten Bewertungen')\n",
    "plt.xlabel('Buchtitel')\n",
    "plt.ylabel('Anzahl der Bewertungen')\n",
    "plt.xticks(rotation=45, ha='right')\n",
    "plt.show()"
   ]
  }
 ],
 "metadata": {
  "kernelspec": {
   "display_name": "Python 3 (ipykernel)",
   "language": "python",
   "name": "python3"
  },
  "language_info": {
   "codemirror_mode": {
    "name": "ipython",
    "version": 3
   },
   "file_extension": ".py",
   "mimetype": "text/x-python",
   "name": "python",
   "nbconvert_exporter": "python",
   "pygments_lexer": "ipython3",
   "version": "3.11.7"
  }
 },
 "nbformat": 4,
 "nbformat_minor": 5
}
