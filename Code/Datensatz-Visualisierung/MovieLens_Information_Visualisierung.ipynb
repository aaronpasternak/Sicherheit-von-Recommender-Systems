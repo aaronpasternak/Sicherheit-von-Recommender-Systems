{
 "cells": [
  {
   "cell_type": "code",
   "execution_count": null,
   "id": "d5b37bb6-6d24-4a3f-a48d-9355a3a633d2",
   "metadata": {},
   "outputs": [],
   "source": [
    "# Importieren der erforderlichen Bibliotheken\n",
    "import pandas as pd\n",
    "import matplotlib.pyplot as plt\n",
    "import seaborn as sns\n",
    "from matplotlib.ticker import FuncFormatter"
   ]
  },
  {
   "cell_type": "code",
   "execution_count": null,
   "id": "5bc1d99f-4d27-4e5a-87c6-5b9a631b2c3e",
   "metadata": {},
   "outputs": [],
   "source": [
    "# Daten laden\n",
    "ratings_df = pd.read_csv(\"ml-32m/ratings.csv\")\n",
    "movies_df = pd.read_csv(\"ml-32m/movies.csv\")"
   ]
  },
  {
   "cell_type": "code",
   "execution_count": null,
   "id": "c80e3b5e-c8af-467e-a847-7e4126fe1192",
   "metadata": {},
   "outputs": [],
   "source": [
    "# Verbinden der DataFrames basierend auf der movieId\n",
    "ratings = pd.merge(ratings_df, movies_df, on='movieId', how='inner')"
   ]
  },
  {
   "cell_type": "code",
   "execution_count": null,
   "id": "5378c666-a1f6-4a42-808d-edd8e61e00d7",
   "metadata": {},
   "outputs": [],
   "source": [
    "# Daten untersuchen\n",
    "print(\"Schema:\")\n",
    "print(ratings.info())"
   ]
  },
  {
   "cell_type": "code",
   "execution_count": null,
   "id": "c4fbfaa7-8f38-4e36-b2c7-1cc9669e9d28",
   "metadata": {},
   "outputs": [],
   "source": [
    "print(\"Anzahl der Zeilen und Spalten:\")\n",
    "print(f\"Zeilen: {ratings.shape[0]}, Spalten: {ratings.shape[1]}\")"
   ]
  },
  {
   "cell_type": "code",
   "execution_count": null,
   "id": "3f7983f9-bcfb-4ac0-9894-dbbbf9b7d9bb",
   "metadata": {},
   "outputs": [],
   "source": [
    "print(\"Erste Zeilen:\")\n",
    "print(ratings.head())"
   ]
  },
  {
   "cell_type": "code",
   "execution_count": null,
   "id": "4edd7aba-d143-4207-8fa0-801afd33bb6d",
   "metadata": {},
   "outputs": [],
   "source": [
    "# Temporäre Änderung der Anzeigeoptionen für float-Werte\n",
    "with pd.option_context('display.float_format', '{:,.2f}'.format):\n",
    "    print(\"Descriptive Stats:\")\n",
    "    print(ratings['rating'].describe())"
   ]
  },
  {
   "cell_type": "code",
   "execution_count": null,
   "id": "1ffd3dbf-4b12-47e5-9313-5e7ae812f440",
   "metadata": {},
   "outputs": [],
   "source": [
    "# Anzahl Ratings insgesamt\n",
    "total_ratings = ratings.shape[0]\n",
    "print(f\"Anzahl Ratings insgesamt: {total_ratings}\")\n",
    "\n",
    "# Anzahl verschiedener Nutzer\n",
    "unique_users = ratings['userId'].nunique()\n",
    "print(f\"Anzahl verschiedener Nutzer: {unique_users}\")\n",
    "\n",
    "# Anzahl verschiedener Filme\n",
    "unique_movies = ratings['movieId'].nunique()\n",
    "print(f\"Anzahl verschiedener Filme: {unique_movies}\")\n",
    "\n",
    "# Anzahl verschiedener Genres\n",
    "# Genres aus dem 'genres'-Feld extrahieren\n",
    "all_genres = movies_df['genres'].str.split('|').explode().unique()\n",
    "unique_genres = len(all_genres)\n",
    "print(f\"Anzahl verschiedener Genres: {unique_genres}\")"
   ]
  },
  {
   "cell_type": "code",
   "execution_count": null,
   "id": "4b25a1dd-d0f5-45e0-bdd8-76c37d3772bf",
   "metadata": {},
   "outputs": [],
   "source": [
    "# Doppelte Kombinationen von userId und movieId finden\n",
    "duplicates = ratings.groupby(['userId', 'movieId']).size()\n",
    "duplicate_count = (duplicates > 1).sum()\n",
    "print(f\"Anzahl der doppelten Bewertungen: {duplicate_count}\")"
   ]
  },
  {
   "cell_type": "code",
   "execution_count": null,
   "id": "0393bfaa-727f-45f6-bbd4-bdc28a0fbc95",
   "metadata": {},
   "outputs": [],
   "source": [
    "# Bewertungen pro Nutzer berechnen\n",
    "user_ratings_count = ratings.groupby('userId').size()\n",
    "\n",
    "# Nutzer mit mindestens 1, 3 und 5 Bewertungen zählen\n",
    "users_1 = (user_ratings_count == 1).sum()\n",
    "users_min_1 = (user_ratings_count >= 1).sum()\n",
    "users_min_30 = (user_ratings_count >= 30).sum()\n",
    "users_min_50 = (user_ratings_count >= 50).sum()\n",
    "\n",
    "print(f\"Anzahl der Nutzer mit genau 1 Bewertung: {users_1}\")\n",
    "print(f\"Anzahl der Nutzer mit mindestens 1 Bewertung: {users_min_1}\")\n",
    "print(f\"Anzahl der Nutzer mit mindestens 30 Bewertungen: {users_min_30}\")\n",
    "print(f\"Anzahl der Nutzer mit mindestens 50 Bewertungen: {users_min_50}\")"
   ]
  },
  {
   "cell_type": "code",
   "execution_count": null,
   "id": "241c5d10-89dc-4629-be4b-3f77d54f92eb",
   "metadata": {},
   "outputs": [],
   "source": [
    "# Nutzer mit ausschließlich demselben Rating\n",
    "user_unique_ratings = ratings.groupby('userId')['rating'].nunique()\n",
    "num_users_with_same_ratings = (user_unique_ratings == 1).sum()\n",
    "print(f\"Anzahl der Benutzer mit ausschließlich demselben Rating: {num_users_with_same_ratings}\")"
   ]
  },
  {
   "cell_type": "code",
   "execution_count": null,
   "id": "3ad69c83-3735-4382-b376-0a5b17e5c7ca",
   "metadata": {},
   "outputs": [],
   "source": [
    "# Bewertungen pro Film berechnen\n",
    "movie_ratings_count = ratings.groupby('movieId').size()\n",
    "\n",
    "# Filme mit mindestens 1, 3 und 5 Bewertungen zählen\n",
    "movies_min_0 = (movie_ratings_count == 0).sum()\n",
    "movies_min_1 = (movie_ratings_count >= 1).sum()\n",
    "movies_min_3 = (movie_ratings_count >= 3).sum()\n",
    "movies_min_5 = (movie_ratings_count >= 5).sum()\n",
    "\n",
    "print(f\"Anzahl der Filme mit mindestens 0 Bewertung: {movies_min_0}\")\n",
    "print(f\"Anzahl der Filme mit mindestens 1 Bewertung: {movies_min_1}\")\n",
    "print(f\"Anzahl der Filme mit mindestens 3 Bewertungen: {movies_min_3}\")\n",
    "print(f\"Anzahl der Filme mit mindestens 5 Bewertungen: {movies_min_5}\")"
   ]
  },
  {
   "cell_type": "code",
   "execution_count": null,
   "id": "76920901-d7ff-4233-864a-e42942c07b8e",
   "metadata": {},
   "outputs": [],
   "source": [
    "# Durchschnittliche Bewertung pro Film\n",
    "avg_rating_per_movie = ratings.groupby('movieId')['rating'].mean()\n",
    "print(avg_rating_per_movie.describe())"
   ]
  },
  {
   "cell_type": "code",
   "execution_count": null,
   "id": "fed91e7b-9400-49a3-a99c-a68f14a700fa",
   "metadata": {},
   "outputs": [],
   "source": [
    "# Durchschnittliche Bewertung pro Benutzer\n",
    "avg_rating_per_user = ratings.groupby('userId')['rating'].mean()\n",
    "print(avg_rating_per_user.describe())"
   ]
  },
  {
   "cell_type": "code",
   "execution_count": null,
   "id": "f01e304d-a5ce-470e-96d8-315f831b8254",
   "metadata": {},
   "outputs": [],
   "source": [
    "# Ratings-Verteilung\n",
    "rating_distribution = ratings['rating'].value_counts().sort_index()\n",
    "\n",
    "# Visualisierungen\n",
    "plt.figure(figsize=(10, 6))\n",
    "rating_distribution.plot(kind='bar', color='skyblue')\n",
    "plt.xlabel('Rating')\n",
    "plt.ylabel('Anzahl der Bewertungen')\n",
    "\n",
    "# Ticks für die Y-Achse festlegen (lineare Skala)\n",
    "ticks = [1_000_000, 2_000_000, 3_000_000, 4_000_000, 5_000_000, 6_000_000, 7_000_000, 8_000_000]\n",
    "plt.yticks(ticks)  # Manuelle Ticks setzen\n",
    "\n",
    "# Y-Achse formatieren: Keine wissenschaftliche Notation, sondern Klartext\n",
    "def linear_format(x, _):\n",
    "    return f'{int(x):,}'\n",
    "\n",
    "plt.gca().yaxis.set_major_formatter(FuncFormatter(linear_format))\n",
    "\n",
    "# Achsenbeschriftungen anpassen\n",
    "plt.xticks(rotation=0)  # X-Achse bleibt aufrecht\n",
    "\n",
    "# Diagramm speichern\n",
    "plt.savefig(\"RatingsVerteilung_MovieLens32M.png\", dpi=300, bbox_inches=\"tight\")\n",
    "plt.show()"
   ]
  },
  {
   "cell_type": "code",
   "execution_count": null,
   "id": "1b4ed54a-d0a1-4055-b364-bbc73afce73c",
   "metadata": {},
   "outputs": [],
   "source": [
    "# Verteilung der Bewertungen pro Nutzer\n",
    "user_ratings_count.plot.hist(bins=50, color='lightgreen')\n",
    "plt.xlabel('Anzahl der Bewertungen')\n",
    "plt.ylabel('Anzahl der Nutzer')\n",
    "plt.yscale('log')\n",
    "\n",
    "# Y-Achse mit normalen Zahlen beschriften\n",
    "def log_format(x, _):\n",
    "    return f'{int(x):,}' if x >= 1 else ''\n",
    "\n",
    "plt.gca().yaxis.set_major_formatter(FuncFormatter(log_format))\n",
    "plt.savefig(\"AnzahlBewertungenNutzer_MovieLens32M.png\", dpi=300, bbox_inches=\"tight\")\n",
    "plt.show()"
   ]
  },
  {
   "cell_type": "code",
   "execution_count": null,
   "id": "89c8433a-a647-41a9-96fe-aa9e40e8e0c3",
   "metadata": {},
   "outputs": [],
   "source": [
    "# Top 10 Nutzer mit den meisten Bewertungen\n",
    "top_users = user_ratings_count.nlargest(10)\n",
    "top_users.plot(kind='bar', color='orange', title='Top 10 Nutzer mit den meisten Bewertungen')\n",
    "plt.xlabel('Nutzer-ID')\n",
    "plt.ylabel('Anzahl der Bewertungen')\n",
    "plt.show()"
   ]
  },
  {
   "cell_type": "code",
   "execution_count": null,
   "id": "7a139cd7-4c0e-45c2-9e5f-b71a6cb69531",
   "metadata": {},
   "outputs": [],
   "source": [
    "# Histogramm der durchschnittlichen Bewertungen pro Benutzer\n",
    "plt.figure(figsize=(10, 6))\n",
    "sns.histplot(avg_rating_per_user, bins=20, color='purple')\n",
    "plt.title('Durchschnittliche Bewertung pro Benutzer')\n",
    "plt.xlabel('Durchschnittliche Bewertung')\n",
    "plt.ylabel('Anzahl der Benutzer')\n",
    "plt.show()"
   ]
  },
  {
   "cell_type": "code",
   "execution_count": null,
   "id": "edfc3d4b-650d-4fbf-b239-4166a7a4a22f",
   "metadata": {},
   "outputs": [],
   "source": [
    "# Verteilung der Anzahl von Bewertungen pro Film\n",
    "movie_rating_counts = ratings.groupby('movieId').size()\n",
    "\n",
    "plt.figure(figsize=(10, 6))\n",
    "plt.hist(movie_rating_counts, bins=50, color='lightgreen')\n",
    "plt.title('Verteilung der Anzahl von Bewertungen pro Film')\n",
    "plt.xlabel('Anzahl der Bewertungen')\n",
    "plt.ylabel('Anzahl der Filme')\n",
    "\n",
    "# Achse auf logarithmische Skala setzen\n",
    "plt.yscale('log')\n",
    "\n",
    "# Y-Achse mit normalen Zahlen beschriften\n",
    "def log_format(x, _):\n",
    "    return f'{int(x):,}' if x >= 1 else ''\n",
    "\n",
    "plt.gca().yaxis.set_major_formatter(FuncFormatter(log_format))\n",
    "\n",
    "plt.show()"
   ]
  },
  {
   "cell_type": "code",
   "execution_count": null,
   "id": "cbccf057-b2d2-4193-af62-d9d28daedb43",
   "metadata": {},
   "outputs": [],
   "source": [
    "# Durchschnittliche Bewertung der Top 10 Filme (nach Anzahl Bewertungen)\n",
    "top_movies_counts = ratings['movieId'].value_counts().head(10)\n",
    "top_movie_titles = movies_df[movies_df['movieId'].isin(top_movies_counts.index)]\n",
    "movie_id_to_title = dict(zip(top_movie_titles['movieId'], top_movie_titles['title']))\n",
    "top_avg_ratings = avg_rating_per_movie.loc[top_movies_counts.index]\n",
    "top_avg_ratings.index = top_avg_ratings.index.map(movie_id_to_title)\n",
    "plt.figure(figsize=(12, 6))\n",
    "sns.barplot(x=top_avg_ratings.index, y=top_avg_ratings.values, palette='viridis')\n",
    "plt.title('Durchschnittliche Bewertung der Top 10 Filme')\n",
    "plt.xlabel('Buchtitel')\n",
    "plt.ylabel('Durchschnittliche Bewertung')\n",
    "plt.xticks(rotation=45, ha='right')\n",
    "plt.show()"
   ]
  },
  {
   "cell_type": "code",
   "execution_count": null,
   "id": "8738d55d-14d7-44a4-981a-f0185135b66a",
   "metadata": {},
   "outputs": [],
   "source": [
    "# Top 10 Filme mit den meisten Bewertungen\n",
    "top_movies_counts = ratings['movieId'].value_counts().head(10)\n",
    "top_movie_titles = movies_df[movies_df['movieId'].isin(top_movies_counts.index)]\n",
    "movie_id_to_title = dict(zip(top_movie_titles['movieId'], top_movie_titles['title']))\n",
    "top_movies_counts.index = top_movies_counts.index.map(movie_id_to_title)\n",
    "plt.figure(figsize=(12, 6))\n",
    "sns.barplot(x=top_movies_counts.index, y=top_movies_counts.values, palette='viridis')\n",
    "plt.title('Top 10 Filme mit den meisten Bewertungen')\n",
    "plt.xlabel('Filmtitel')\n",
    "plt.ylabel('Anzahl der Bewertungen')\n",
    "plt.xticks(rotation=45, ha='right')\n",
    "plt.show()"
   ]
  },
  {
   "cell_type": "code",
   "execution_count": null,
   "id": "c3501dad-da37-4777-8ce7-6eb8a316cf81",
   "metadata": {},
   "outputs": [],
   "source": [
    "# Durchschnittliche Bewertung pro Jahrzehnt\n",
    "movies_df['year'] = movies_df['title'].str.extract(r'\\((\\d{4})\\)').astype(float)\n",
    "ratings_with_year = pd.merge(ratings, movies_df[['movieId', 'year']], on='movieId')\n",
    "ratings_with_year['decade'] = (ratings_with_year['year'] // 10) * 10\n",
    "avg_rating_per_decade = ratings_with_year.groupby('decade')['rating'].mean()\n",
    "avg_rating_per_decade.plot(kind='line', marker='o', title='Durchschnittliche Bewertung pro Jahrzehnt')\n",
    "plt.xlabel('Dekade')\n",
    "plt.ylabel('Durchschnittliche Bewertung')\n",
    "plt.show()"
   ]
  }
 ],
 "metadata": {
  "kernelspec": {
   "display_name": "Python 3 (ipykernel)",
   "language": "python",
   "name": "python3"
  },
  "language_info": {
   "codemirror_mode": {
    "name": "ipython",
    "version": 3
   },
   "file_extension": ".py",
   "mimetype": "text/x-python",
   "name": "python",
   "nbconvert_exporter": "python",
   "pygments_lexer": "ipython3",
   "version": "3.11.7"
  }
 },
 "nbformat": 4,
 "nbformat_minor": 5
}
